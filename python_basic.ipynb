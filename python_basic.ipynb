{
  "cells": [
    {
      "cell_type": "markdown",
      "metadata": {
        "id": "_1VfB8Fi0cR8"
      },
      "source": [
        "#python basic\n"
      ]
    },
    {
      "cell_type": "markdown",
      "source": [
        "\n",
        ">  ## ***theory Questions*** ##\n",
        "\n",
        "\n",
        "\n",
        "\n"
      ],
      "metadata": {
        "id": "KEjypaRCEWKK"
      }
    },
    {
      "cell_type": "code",
      "source": [
        "### Question 1 :  What is Python, and why is it popular\n"
      ],
      "metadata": {
        "id": "7Zgtj7K9B8BM"
      },
      "execution_count": null,
      "outputs": []
    },
    {
      "cell_type": "markdown",
      "metadata": {
        "id": "f5CFaHsB0fYg"
      },
      "source": [
        "### **Question 1 :  What is Python, and why is it popular** ###\n",
        "\n",
        "*   List item\n",
        "*   List item\n",
        "\n",
        "\n",
        "\n",
        "  - Python is a high-level, interpreted programming language.\n",
        "  - its simplicity, readability, and versatility are the main reason for its popularity\n",
        "  - main reasons for popularity:\n",
        "      1.  Easy to Learn and Readable\n",
        "          - Python has a clean and simple syntax similar to\n",
        "            English.\n",
        "          - No semicolons (;), minimal brackets {}, and indentation-based structure make it beginner-friendly,  \n",
        "          example `print(\"Hello, World!\")`\n",
        "      2. Versatile and Multi-Purpose\n",
        "          - Python can be used in web development (Django, Flask),\n",
        "           data science (NumPy, Pandas),\n",
        "            AI/ML (TensorFlow, PyTorch), automation (Selenium, PyAutoGUI), game development (Pygame), cybersecurity, and more.\n",
        "      3. Large Community and Support\n",
        "          -  Millions of developers use Python, leading to vast documentation,\n",
        "             tutorials, and third-party libraries.\n",
        "\n",
        "      4. Extensive Libraries and Frameworks\n",
        "\n",
        "          - Python has thousands of pre-built libraries:\n",
        "                  - Data Science → NumPy,\n",
        "                  - Pandas, Matplotlib, SciPy\n",
        "                  - AI/ML → TensorFlow, PyTorch, Scikit-learn\n",
        "                  - Web Development → Django, Flask\n",
        "                  - Automation → Selenium, PyAutoGUI\n",
        "                  - Game Development → Pygame\n",
        "                  - Cybersecurity → Scapy, PyCryptodome\n",
        "        \n",
        "\n",
        "\n",
        "\n",
        "---\n",
        "---\n",
        "---"
      ]
    },
    {
      "cell_type": "code",
      "source": [
        " ### Question 2:  What is an Interpreter in Python?\n"
      ],
      "metadata": {
        "id": "PPnWUkJwBtrp"
      },
      "execution_count": null,
      "outputs": []
    },
    {
      "cell_type": "markdown",
      "metadata": {
        "id": "Wvs2laPA9PZe"
      },
      "source": [
        "\n",
        "\n",
        "An **interpreter** in Python is a **program that executes Python code line by line** instead of compiling the entire code at once. Python is an **interpreted language**, meaning its code is executed **directly without compilation** like C or Java.\n",
        "\n",
        "---\n",
        "\n",
        "### **How the Python Interpreter Works**  \n",
        "When you run a Python script, the interpreter performs the following steps:  \n",
        "1. **Lexical Analysis** → Breaks the code into tokens (keywords, variables, operators, etc.).  \n",
        "2. **Parsing** → Converts tokens into a syntax tree to check for correctness.  \n",
        "3. **Bytecode Compilation** → Converts the syntax tree into an intermediate format called **bytecode** (`.pyc` files).  \n",
        "4. **Execution in Python Virtual Machine (PVM)** → The bytecode runs inside the **Python Virtual Machine (PVM)**, which interacts with the operating system to execute commands.\n",
        "---\n",
        "\n",
        "\n",
        "### **Different Python Interpreters**  \n",
        "Python has multiple interpreters, including:  \n",
        "- **CPython** → The default Python interpreter, written in C.  \n",
        "- **PyPy** → A faster interpreter with Just-In-Time (JIT) compilation.  \n",
        "- **Jython** → A Python interpreter written in Java, runs on the JVM.  \n",
        "- **IronPython** → A Python interpreter for .NET and C#.  \n",
        "- **MicroPython** → A lightweight interpreter for microcontrollers.  \n",
        "\n",
        "---\n",
        "\n",
        "### **Example: Running Python in an Interpreter**  \n",
        "Using the **Python interactive shell (REPL)**:  \n",
        "```python\n",
        ">>> print(\"Hello, World!\")\n",
        "Hello, World!\n",
        ">>> x = 5\n",
        ">>> y = x * 2\n",
        ">>> print(y)\n",
        "10\n",
        "```\n",
        "The interpreter executes each command **line by line**, providing instant results.\n",
        "---\n",
        "---\n",
        "---"
      ]
    },
    {
      "cell_type": "code",
      "source": [
        "###   Question 3:  What are Pre-Defined Keywords in Python?\n"
      ],
      "metadata": {
        "id": "14FbQd9NCSEi"
      },
      "execution_count": null,
      "outputs": []
    },
    {
      "cell_type": "markdown",
      "metadata": {
        "id": "5BFfMImv-mPV"
      },
      "source": [
        "###    **Question 3:  What are Pre-Defined Keywords in Python?**  \n",
        "**Pre-defined keywords (or reserved words)** in Python are **special words that have a fixed meaning in the language**. These keywords **cannot be used as variable names, function names, or identifiers** because they are part of Python's syntax.\n",
        "\n",
        "---\n",
        "\n",
        "### **List of Python Keywords**  \n",
        "Python has **35 reserved keywords** that serve different purposes.\n",
        "\n",
        "| **Category** | **Keywords** |\n",
        "|-------------|-------------|\n",
        "| **Control Flow** | `if`, `elif`, `else`, `while`, `for`, `break`, `continue`, `pass` |\n",
        "| **Boolean & None** | `True`, `False`, `None` |\n",
        "| **Functions & Classes** | `def`, `return`, `lambda`, `class` |\n",
        "| **Exception Handling** | `try`, `except`, `finally`, `raise`, `assert` |\n",
        "| **Loop Modifiers** | `break`, `continue`, `pass` |\n",
        "| **Import & Modules** | `import`, `from`, `as` |\n",
        "| **Logical Operators** | `and`, `or`, `not`, `is`, `in` |\n",
        "| **Variable Scope & Memory** | `global`, `nonlocal`, `del` |\n",
        "| **Object-Oriented Programming** | `class`, `self`, `super` |\n",
        "| **Asynchronous Programming** | `async`, `await` |\n",
        "| **Miscellaneous** | `yield`, `with` |\n",
        "\n",
        "---\n",
        "\n",
        "### **Examples of Using Python Keywords**\n",
        "[1] **Conditional Statements (`if`, `elif`, `else`)**\n",
        "```python\n",
        "x = 10\n",
        "if x > 5:\n",
        "    print(\"x is greater than 5\")\n",
        "elif x == 5:\n",
        "    print(\"x is equal to 5\")\n",
        "else:\n",
        "    print(\"x is less than 5\")\n",
        "```\n",
        "\n",
        "[2] **Loops (`for`, `while`, `break`, `continue`)**\n",
        "```python\n",
        "for i in range(5):\n",
        "    if i == 3:\n",
        "        break  # Stops the loop when i is 3\n",
        "    print(i)\n",
        "```\n",
        "\n",
        "[3] **Function Definition (`def`, `return`)**\n",
        "```python\n",
        "def add(a, b):\n",
        "    return a + b\n",
        "\n",
        "print(add(5, 3))  # Output: 8\n",
        "```\n",
        "\n",
        "[4] **Exception Handling (`try`, `except`, `finally`)**\n",
        "```python\n",
        "try:\n",
        "    result = 10 / 0\n",
        "except ZeroDivisionError:\n",
        "    print(\"Cannot divide by zero!\")\n",
        "finally:\n",
        "    print(\"Execution completed.\")\n",
        "```\n",
        "\n",
        "[5] **Using `import` for Modules**\n",
        "```python\n",
        "import math\n",
        "print(math.sqrt(16))  # Output: 4.0\n",
        "```\n",
        "\n",
        "---\n",
        "\n",
        "### **How to Get a List of Keywords in Python?**\n",
        "You can check all Python keywords using the `keyword` module:\n",
        "```python\n",
        "import keyword\n",
        "print(keyword.kwlist)\n",
        "```\n",
        "\n",
        "\n",
        "---\n",
        "---\n",
        "---"
      ]
    },
    {
      "cell_type": "code",
      "source": [
        "### Question 4 : Can keywords be used as variable names"
      ],
      "metadata": {
        "id": "hXD2XWTVPSPl"
      },
      "execution_count": 23,
      "outputs": []
    },
    {
      "cell_type": "markdown",
      "source": [
        "### **No, Keywords Cannot Be Used as Variable Names in Python**  \n",
        "Python **keywords** (also called **reserved words**) are special words used by Python for specific functions, such as control flow (`if`, `while`), data types (`int`, `float`), and logical operators (`and`, `or`).  \n",
        "\n",
        "Since keywords have predefined meanings, **you cannot use them as variable names**.\n",
        "\n",
        "---\n",
        "---\n",
        "---\n",
        "\n"
      ],
      "metadata": {
        "id": "afQkP-BdCnCT"
      }
    },
    {
      "cell_type": "code",
      "source": [
        "### question 5:What is Mutability in Python?"
      ],
      "metadata": {
        "id": "UWdgZp1rC4hg"
      },
      "execution_count": null,
      "outputs": []
    },
    {
      "cell_type": "markdown",
      "metadata": {
        "id": "etGHKcREArQa"
      },
      "source": [
        "### **question 5:What is Mutability in Python?**  \n",
        "**Mutability** in Python refers to whether an object’s value can be changed **after it is created**.  \n",
        "\n",
        "- **Mutable objects** → Can be changed after creation.  \n",
        "- **Immutable objects** → Cannot be changed after creation.  \n",
        "\n",
        "---\n",
        "\n",
        "### **Mutable vs. Immutable Objects in Python**  \n",
        "| **Type** | **Examples** | **Mutable?** |\n",
        "|----------|-------------|--------------|\n",
        "| **Mutable (Changeable)** | `list`, `dict`, `set`, `bytearray` | ✅ Yes |\n",
        "| **Immutable (Unchangeable)** | `int`, `float`, `str`, `tuple`, `bool`, `frozenset`, `bytes` | ❌ No |\n",
        "\n",
        "---\n",
        "\n",
        "### **Examples of Mutable Objects**\n",
        "1️⃣ **Lists (`list`) – Can be changed**\n",
        "```python\n",
        "numbers = [1, 2, 3]\n",
        "numbers.append(4)  # Modifies the list\n",
        "print(numbers)  # Output: [1, 2, 3, 4]\n",
        "```\n",
        "\n",
        "2️⃣ **Dictionaries (`dict`) – Can be changed**\n",
        "```python\n",
        "person = {\"name\": \"Alice\", \"age\": 25}\n",
        "person[\"age\"] = 26  # Modifies the dictionary\n",
        "print(person)  # Output: {'name': 'Alice', 'age': 26}\n",
        "```\n",
        "\n",
        "3️⃣ **Sets (`set`) – Can be changed**\n",
        "```python\n",
        "fruits = {\"apple\", \"banana\"}\n",
        "fruits.add(\"orange\")  #  Modifies the set\n",
        "print(fruits)  # Output: {'apple', 'banana', 'orange'}\n",
        "```\n",
        "\n",
        "---\n",
        "\n",
        "### **Examples of Immutable Objects**\n",
        "1️⃣ **Strings (`str`) – Cannot be changed**\n",
        "```python\n",
        "text = \"Hello\"\n",
        "text[0] = \"Y\"  #  TypeError: 'str' object does not support item assignment\n",
        "```\n",
        "✅ **Alternative (Create a new string)**\n",
        "```python\n",
        "text = \"Hello\"\n",
        "new_text = \"Y\" + text[1:]  # Creates a new string\n",
        "print(new_text)  # Output: \"Yello\"\n",
        "```\n",
        "\n",
        "2️⃣ **Tuples (`tuple`) – Cannot be changed**\n",
        "```python\n",
        "numbers = (1, 2, 3)\n",
        "numbers[1] = 5  # TypeError: 'tuple' object does not support item assignment\n",
        "```\n",
        "\n",
        "3️⃣ **Integers (`int`) – Cannot be changed**\n",
        "```python\n",
        "x = 10\n",
        "x += 5  # This creates a new integer object, not modifying the existing one\n",
        "print(x)  # Output: 15\n",
        "```\n",
        "\n",
        "---\n",
        "\n",
        "---\n",
        "---\n",
        "---"
      ]
    },
    {
      "cell_type": "code",
      "source": [
        "### Question 6: Why Are Lists Mutable, but Tuples Are Immutable in Python?\n"
      ],
      "metadata": {
        "id": "KdzCRzBKC_j7"
      },
      "execution_count": null,
      "outputs": []
    },
    {
      "cell_type": "markdown",
      "metadata": {
        "id": "HwUrABPPC5rR"
      },
      "source": [
        "### **Question 6: Why Are Lists Mutable, but Tuples Are Immutable in Python?**  \n",
        "\n",
        "The main reason **lists are mutable** while **tuples are immutable** lies in **how they are implemented in memory** and their **intended use cases**.\n",
        "\n",
        "---\n",
        "\n",
        "## **1. Lists Are Mutable** ✅  \n",
        "A **list** (`list`) in Python is designed to store **dynamic collections** of items that can be modified **after creation**.\n",
        "\n",
        "### **How Lists Work**\n",
        "- Lists are stored in memory as **references to objects**, meaning **elements inside the list can be changed**.\n",
        "- The list itself is an **object in memory**, and its contents (elements) are stored as **pointers** to the actual data.\n",
        "\n",
        "### **Example: Mutability of Lists**\n",
        "```python\n",
        "numbers = [1, 2, 3]\n",
        "numbers[1] = 5  # ✅ Modifies the list\n",
        "print(numbers)  # Output: [1, 5, 3]\n",
        "\n",
        "numbers.append(4)  # ✅ Adds a new element\n",
        "print(numbers)  # Output: [1, 5, 3, 4]\n",
        "```\n",
        "\n",
        "### **Why Are Lists Mutable?**\n",
        "- Lists are **optimized for flexibility**, allowing insertion, deletion, and modification.\n",
        "- They store **references** to elements, so changing an element does not require recreating the entire list.\n",
        "\n",
        "---\n",
        "\n",
        "## **2. Tuples Are Immutable** ❌  \n",
        "A **tuple** (`tuple`) is **immutable**, meaning its values **cannot be changed** after creation.\n",
        "\n",
        "### **How Tuples Work**\n",
        "- Tuples store values **directly** in a **fixed memory block**.\n",
        "- Instead of references like lists, tuples are **stored as a single, contiguous block of memory**.\n",
        "- This means **once a tuple is created, it cannot be modified**.\n",
        "\n",
        "### **Example: Immutability of Tuples**\n",
        "```python\n",
        "numbers = (1, 2, 3)\n",
        "numbers[1] = 5  # ❌ TypeError: 'tuple' object does not support item assignment\n",
        "```\n",
        "\n",
        "### **Why Are Tuples Immutable?**\n",
        "- **Performance** → Tuples are **faster** than lists because they use a **fixed memory structure**.\n",
        "- **Safety** → Prevents accidental modifications, making them useful for constants.\n",
        "- **Hashability** → Tuples can be used as **dictionary keys**, whereas lists cannot.\n",
        "\n",
        "✅ **Tuples are immutable, but they can store mutable objects (like lists inside a tuple)**:\n",
        "```python\n",
        "mixed = (1, [2, 3], \"hello\")\n",
        "mixed[1].append(4)  # ✅ Allowed (because the list inside is mutable)\n",
        "print(mixed)  # Output: (1, [2, 3, 4], 'hello')\n",
        "```\n",
        " **However, the tuple itself (its structure) cannot be modified**:\n",
        "```python\n",
        "mixed[1] = [5, 6]  # ❌ TypeError: 'tuple' object does not support item assignment\n",
        "```\n",
        "\n",
        "---\n",
        "---\n",
        "---\n",
        "---\n"
      ]
    },
    {
      "cell_type": "code",
      "source": [
        "### Question 7:Difference Between `==` and `is` Operators in Python"
      ],
      "metadata": {
        "id": "4Yi4yJOpDEc6"
      },
      "execution_count": null,
      "outputs": []
    },
    {
      "cell_type": "markdown",
      "metadata": {
        "id": "WhVswokrDqXH"
      },
      "source": [
        "### **Question 7:Difference Between `==` and `is` Operators in Python**\n",
        "\n",
        "\n",
        "\n",
        "\n",
        "\n",
        "\n",
        "## **1. `==` (Equality Operator)**\n",
        "✅ **Checks if two variables have the same value.**  \n",
        "\n",
        "🔹 Even if two objects have the same value, they may be **stored at different memory locations**.  \n",
        "\n",
        "### **Example: `==` Checks Values**\n",
        "```python\n",
        "a = [1, 2, 3]\n",
        "b = [1, 2, 3]\n",
        "\n",
        "print(a == b)  # ✅ True (Both lists have the same values)\n",
        "print(a is b)  # ❌ False (They are different objects in memory)\n",
        "```\n",
        "Even though `a` and `b` have the **same value**, they are stored in **different memory locations**.\n",
        "\n",
        "---\n",
        "\n",
        "## **2. `is` (Identity Operator)**\n",
        "✅ **Checks if two variables refer to the same object in memory.**  \n",
        "\n",
        "🔹 If two objects have the same **memory address**, `is` returns **True**.\n",
        "\n",
        "### **Example: `is` Checks Identity**\n",
        "```python\n",
        "x = [10, 20]\n",
        "y = x  # `y` points to the same object as `x`\n",
        "\n",
        "print(x == y)  # ✅ True (Values are the same)\n",
        "print(x is y)  # ✅ True (Both refer to the same object)\n",
        "```\n",
        "Here, `y` is assigned `x`, so both `x` and `y` **point to the same memory location**.\n",
        "\n",
        "---\n",
        "\n",
        "## **3. Example With Immutable Types (`int`, `str`, `tuple`)**\n",
        "For **small integers (-5 to 256) and short strings**, Python **caches objects**, making `is` return **True**.\n",
        "\n",
        "```python\n",
        "a = 10\n",
        "b = 10\n",
        "\n",
        "print(a == b)  # ✅ True (Same value)\n",
        "print(a is b)  # ✅ True (Python caches small integers)\n",
        "```\n",
        "But for **larger integers or dynamically created objects**, `is` may return **False**:\n",
        "\n",
        "```python\n",
        "x = 5000\n",
        "y = 5000\n",
        "\n",
        "print(x == y)  # ✅ True (Same value)\n",
        "print(x is y)  # ❌ False (Stored at different memory locations)\n",
        "```\n",
        "\n",
        "---\n",
        "---\n",
        "---\n",
        "---\n"
      ]
    },
    {
      "cell_type": "code",
      "source": [
        "### Question 8:Logical Operators in Python?\n"
      ],
      "metadata": {
        "id": "UxRvqynXDKuA"
      },
      "execution_count": null,
      "outputs": []
    },
    {
      "cell_type": "markdown",
      "metadata": {
        "id": "syYPTFQHEbTU"
      },
      "source": [
        "### **Question 8:Logical Operators in Python**  \n",
        "\n",
        "Logical operators in Python are used to perform **Boolean (True/False) operations**. They allow you to combine multiple conditions and return a **Boolean result** (`True` or `False`).  \n",
        "\n",
        "\n",
        "## **1. `and` Operator (Logical AND)**\n",
        "✅ **Returns `True` only if both conditions are `True`**. Otherwise, it returns `False`.  \n",
        "\n",
        "### **Example**\n",
        "```python\n",
        "x = 10\n",
        "y = 5\n",
        "\n",
        "print(x > 5 and y < 10)  # ✅ True (Both conditions are True)\n",
        "print(x > 5 and y > 10)  # ❌ False (One condition is False)\n",
        "```\n",
        "#### **Truth Table for `and`**\n",
        "| Condition 1 | Condition 2 | Result (`and`) |\n",
        "|-------------|------------|----------------|\n",
        "| True  | True  | ✅ True |\n",
        "| True  | False | ❌ False |\n",
        "| False | True  | ❌ False |\n",
        "| False | False | ❌ False |\n",
        "\n",
        "---\n",
        "\n",
        "## **2. `or` Operator (Logical OR)**\n",
        "✅ **Returns `True` if at least one condition is `True`**.  \n",
        "\n",
        "### **Example**\n",
        "```python\n",
        "x = 10\n",
        "y = 5\n",
        "\n",
        "print(x > 5 or y > 10)  # ✅ True (At least one condition is True)\n",
        "print(x < 5 or y > 10)  # ❌ False (Both conditions are False)\n",
        "```\n",
        "#### **Truth Table for `or`**\n",
        "| Condition 1 | Condition 2 | Result (`or`) |\n",
        "|-------------|------------|---------------|\n",
        "| True  | True  | ✅ True |\n",
        "| True  | False | ✅ True |\n",
        "| False | True  | ✅ True |\n",
        "| False | False | ❌ False |\n",
        "\n",
        "---\n",
        "\n",
        "## **3. `not` Operator (Logical NOT)**\n",
        "✅ **Reverses the Boolean value** (`True` → `False`, `False` → `True`).  \n",
        "\n",
        "### **Example**\n",
        "```python\n",
        "x = 10\n",
        "\n",
        "print(not(x > 5))   # ❌ False (Because x > 5 is True, and `not` reverses it)\n",
        "print(not(x < 5))   # ✅ True (Because x < 5 is False, and `not` makes it True)\n",
        "```\n",
        "#### **Truth Table for `not`**\n",
        "| Condition | Result (`not`) |\n",
        "|-----------|---------------|\n",
        "| True  | ❌ False |\n",
        "| False | ✅ True |\n",
        "\n",
        "---\n",
        "\n",
        "## **4. Logical Operators With Non-Boolean Values**\n",
        "Python allows logical operators to be used with **non-Boolean values**. In this case:\n",
        "- `0`, `None`, `\"\"` (empty string), and empty collections (`[]`, `{}`, `set()`) are **False**.\n",
        "- Any **non-empty** value is **True**.\n",
        "\n",
        "### **Example**\n",
        "```python\n",
        "print(10 and 0)   # Output: 0 (First truthy value is 10, but `0` is False, so it stops)\n",
        "print(10 or 0)    # Output: 10 (`or` stops at the first truthy value)\n",
        "print(not 10)     # Output: False (`10` is Truthy, `not` makes it False)\n",
        "print(not 0)      # Output: True (`0` is Falsy, `not` makes it True)\n",
        "```\n",
        "\n",
        "---\n",
        "---\n",
        "---\n",
        "---\n"
      ]
    },
    {
      "cell_type": "code",
      "source": [
        "### Question 9.  What is type casting in Python?\n"
      ],
      "metadata": {
        "id": "ZQcWHvYbDQNG"
      },
      "execution_count": null,
      "outputs": []
    },
    {
      "cell_type": "markdown",
      "metadata": {
        "id": "KKYIWnJ2FsbF"
      },
      "source": [
        "### **Question 9.  What is type casting in Python**  \n",
        "\n",
        "🔹 **Type casting** (also called **type conversion**) is the process of converting a variable from one data type to another.  \n",
        "\n",
        "Python provides **two types** of type conversion:  \n",
        "1. **Implicit Type Casting** – Automatically done by Python.  \n",
        "2. **Explicit Type Casting** – Manually done by the programmer using built-in functions.  \n",
        "\n",
        "---\n",
        "\n",
        "## **1. Implicit Type Casting (Automatic Conversion)**  \n",
        "Python automatically converts **smaller data types** into **larger data types** to avoid data loss.  \n",
        "\n",
        "### **Example of Implicit Conversion**\n",
        "```python\n",
        "x = 5       # Integer\n",
        "y = 2.5     # Float\n",
        "\n",
        "result = x + y  # Integer + Float → Float\n",
        "print(result)   # Output: 7.5\n",
        "print(type(result))  # Output: <class 'float'>\n",
        "```\n",
        "\n",
        "### **Another Example**\n",
        "```python\n",
        "a = 10     # int\n",
        "b = True   # bool (True is considered as 1)\n",
        "\n",
        "c = a + b  # 10 + 1 → 11\n",
        "print(c)   # Output: 11\n",
        "print(type(c))  # Output: <class 'int'>\n",
        "\n",
        "\n",
        "---\n",
        "\n",
        "## **2. Explicit Type Casting (Manual Conversion)**  \n",
        "Explicit conversion is done using **built-in functions**:  \n",
        "\n",
        "| Function | Converts To |\n",
        "|----------|------------|\n",
        "| `int()`  | Integer |\n",
        "| `float()` | Float |\n",
        "| `str()`  | String |\n",
        "| `bool()` | Boolean |\n",
        "| `list()` | List |\n",
        "| `tuple()` | Tuple |\n",
        "| `set()` | Set |\n",
        "\n",
        "### **Example: Converting Float to Integer**\n",
        "```python\n",
        "x = 5.99\n",
        "y = int(x)  # Manually converting float → int\n",
        "\n",
        "print(y)  # Output: 5 (decimal part is removed)\n",
        "print(type(y))  # Output: <class 'int'>\n",
        "```\n",
        "\n",
        "\n",
        "### **Example: Converting String to Integer**\n",
        "```python\n",
        "num_str = \"100\"\n",
        "num_int = int(num_str)  # String → Integer\n",
        "\n",
        "print(num_int + 50)  # Output: 150\n",
        "print(type(num_int))  # Output: <class 'int'>\n",
        "```\n",
        " **Important:** The string **must contain a valid number**, otherwise it will raise an error.\n",
        "\n",
        "```python\n",
        "num_str = \"hello\"\n",
        "num_int = int(num_str)  # ❌ Error: invalid literal for int()\n",
        "```\n",
        "\n",
        "---\n",
        "\n",
        "## **3. Type Casting with Boolean Values**  \n",
        "Python treats some values as **True** and some as **False** when converted to `bool`.\n",
        "\n",
        "### **Example**\n",
        "```python\n",
        "print(bool(0))      # Output: False\n",
        "print(bool(1))      # Output: True\n",
        "print(bool(\"\"))     # Output: False (Empty string is False)\n",
        "print(bool(\"Hello\")) # Output: True (Non-empty string is True)\n",
        "print(bool([]))     # Output: False (Empty list is False)\n",
        "print(bool([1, 2])) # Output: True (Non-empty list is True)\n",
        "```\n",
        "\n",
        "---\n",
        "\n",
        "## **4. Type Casting Between Collections**\n",
        "You can also convert between **lists, tuples, and sets**.\n",
        "\n",
        "### **Example**\n",
        "```python\n",
        "list_data = [1, 2, 3]\n",
        "tuple_data = tuple(list_data)  # Convert list to tuple\n",
        "set_data = set(list_data)      # Convert list to set\n",
        "\n",
        "print(tuple_data)  # Output: (1, 2, 3)\n",
        "print(set_data)    # Output: {1, 2, 3}\n",
        "```\n",
        "\n",
        "---\n",
        "\n",
        "---\n",
        "---\n",
        "---"
      ]
    },
    {
      "cell_type": "code",
      "source": [
        "### Question 10 : Difference Between Implicit and Explicit Type Casting in Python?"
      ],
      "metadata": {
        "id": "pXCIxApyDYPH"
      },
      "execution_count": null,
      "outputs": []
    },
    {
      "cell_type": "markdown",
      "metadata": {
        "id": "l3kv00MTGd9W"
      },
      "source": [
        "### **Question 10 : Difference Between Implicit and Explicit Type Casting in Python**  \n",
        "\n",
        "| Feature | **Implicit Type Casting** | **Explicit Type Casting** |\n",
        "|---------|--------------------------|--------------------------|\n",
        "| **Definition** | Automatic conversion of data types by Python | Manual conversion done by the programmer |\n",
        "| **Control** | Python handles it automatically | The programmer decides the conversion |\n",
        "| **Data Loss** | No data loss (Python promotes smaller types to larger ones) | Possible data loss (e.g., `float` to `int` removes decimals) |\n",
        "| **Error Risk** | No risk of errors | May raise errors if conversion is invalid |\n",
        "| **Example** | `int + float → float` | `int(\"100\")` (string to int) |\n",
        "\n",
        "---\n",
        "\n",
        "## **1. Implicit Type Casting (Automatic)**\n",
        "✅ Python **automatically converts** a smaller type into a larger type when needed.\n",
        "\n",
        "### **Example**\n",
        "```python\n",
        "x = 5       # Integer\n",
        "y = 2.5     # Float\n",
        "\n",
        "result = x + y  # int + float → float\n",
        "print(result)   # Output: 7.5\n",
        "print(type(result))  # Output: <class 'float'>\n",
        "```\n",
        "Python **promotes** `int` to `float` automatically to avoid data loss.\n",
        "\n",
        "---\n",
        "\n",
        "## **2. Explicit Type Casting (Manual)**\n",
        "✅ **The programmer manually converts** one type to another using **built-in functions**.\n",
        "\n",
        "### **Example 1: Converting Float to Integer**\n",
        "```python\n",
        "x = 5.99\n",
        "y = int(x)  # Manually converting float → int\n",
        "\n",
        "print(y)  # Output: 5 (decimal part removed)\n",
        "print(type(y))  # Output: <class 'int'>\n",
        "```\n",
        "**Data loss occurs** because the decimal part is truncated.\n",
        "\n",
        "### **Example 2: Converting String to Integer**\n",
        "```python\n",
        "num_str = \"100\"\n",
        "num_int = int(num_str)  # String → Integer\n",
        "\n",
        "print(num_int + 50)  # Output: 150\n",
        "print(type(num_int))  # Output: <class 'int'>\n",
        "```\n",
        "**Invalid Conversion Example**\n",
        "```python\n",
        "num_str = \"hello\"\n",
        "num_int = int(num_str)  # ❌ Error: invalid literal for int()\n",
        "```\n",
        "**Converting non-numeric strings to numbers causes errors**.\n",
        "\n",
        "---\n",
        "\n",
        "---\n",
        "---\n",
        "---"
      ]
    },
    {
      "cell_type": "code",
      "source": [
        "### Question 11 :  What is the purpose of conditional statements in Python?\n"
      ],
      "metadata": {
        "id": "18y1y8-zDdcY"
      },
      "execution_count": null,
      "outputs": []
    },
    {
      "cell_type": "markdown",
      "metadata": {
        "id": "uclXo9EOJoDz"
      },
      "source": [
        "\n",
        "\n",
        "### **Question 11 :  What is the purpose of conditional statements in Python**  \n",
        "\n",
        "Conditional statements in Python are used to **make decisions** based on whether a given condition or expression is **True** or **False**. They allow your program to execute different blocks of code depending on certain conditions. This is essential for controlling the flow of execution and implementing logic like **branching** and **decision-making**.\n",
        "\n",
        "---\n",
        "\n",
        "### **Types of Conditional Statements in Python**\n",
        "\n",
        "1. **`if` Statement**  \n",
        "2. **`else` Statement**  \n",
        "3. **`elif` Statement**  \n",
        "4. **Nested Conditional Statements**\n",
        "\n",
        "\n",
        "### **Purpose of Conditional Statements:**\n",
        "1. **Decision Making:** Conditional statements allow programs to make decisions based on certain conditions, which is essential for logic and control flow.\n",
        "  \n",
        "2. **Flow Control:** They help control which parts of the program should run based on dynamic conditions (e.g., user input, environmental factors).\n",
        "\n",
        "3. **Flexibility and Efficiency:** By branching out to different parts of code, conditional statements enable efficient problem-solving with multiple solutions or pathways based on inputs or states.\n",
        "\n",
        "4. **Handling Different Scenarios:** They allow your program to respond differently to different inputs (e.g., checking if a number is positive, negative, or zero).\n",
        "\n",
        "### **1. `if` Statement**  \n",
        "The **`if`** statement allows you to execute a block of code if a condition is **True**.\n",
        "\n",
        "\n",
        "\n",
        "#### **Example:**\n",
        "```python\n",
        "x = 10\n",
        "if x > 5:\n",
        "    print(\"x is greater than 5\")  # This will execute because x > 5\n",
        "```\n",
        "\n",
        "---\n",
        "\n",
        "### **2. `else` Statement**  \n",
        "The **`else`** statement is used to execute code when the **`if`** condition is **False**.\n",
        "\n",
        "\n",
        "#### **Example:**\n",
        "```python\n",
        "x = 3\n",
        "if x > 5:\n",
        "    print(\"x is greater than 5\")\n",
        "else:\n",
        "    print(\"x is not greater than 5\")  # This will execute because x <= 5\n",
        "```\n",
        "\n",
        "---\n",
        "\n",
        "### **3. `elif` Statement**  \n",
        "The **`elif`** (short for \"else if\") allows checking multiple conditions. It follows an **`if`** statement and gives additional conditions to test if the initial `if` condition is **False**.\n",
        "\n",
        "\n",
        "```\n",
        "\n",
        "#### **Example:**\n",
        "```python\n",
        "x = 10\n",
        "if x > 15:\n",
        "    print(\"x is greater than 15\")\n",
        "elif x > 5:\n",
        "    print(\"x is greater than 5 but less than or equal to 15\")  # This will execute\n",
        "else:\n",
        "    print(\"x is less than or equal to 5\")\n",
        "```\n",
        "\n",
        "---\n",
        "---\n",
        "---\n",
        "\n",
        "\n",
        "\n",
        "\n"
      ]
    },
    {
      "cell_type": "code",
      "source": [
        "### Question 12 : How does `elif` Statement Works in Python?\n"
      ],
      "metadata": {
        "id": "qZ1cbby5Dlmr"
      },
      "execution_count": null,
      "outputs": []
    },
    {
      "cell_type": "markdown",
      "metadata": {
        "id": "yaXvew-tJoAP"
      },
      "source": [
        "### **Question 12 : How does `elif` Statement Works in Python?**\n",
        "\n",
        "The `elif` statement (short for **\"else if\"**) is used to check multiple conditions in a sequence after the initial `if` statement. It helps test more than one condition without needing to nest multiple `if` statements. If the **`if`** condition is **False**, Python checks the **`elif`** condition, and if that is also **False**, it proceeds to the next **`elif`** or **`else`** block.\n",
        "\n",
        "---\n",
        "\n",
        "### **Syntax of `elif` Statement:**\n",
        "```python\n",
        "if condition1:\n",
        "    # Code to execute if condition1 is True\n",
        "elif condition2:\n",
        "    # Code to execute if condition1 is False and condition2 is True\n",
        "elif condition3:\n",
        "    # Code to execute if condition1 and condition2 are False and condition3 is True\n",
        "else:\n",
        "    # Code to execute if all conditions are False\n",
        "```\n",
        "\n",
        "- The **`if`** block is evaluated first.\n",
        "- If **`if`** is **False**, the program checks the first **`elif`** condition.\n",
        "- If **`elif`** is **False**, the next **`elif`** (if any) is checked.\n",
        "- If no **`if`** or **`elif`** conditions are true, the **`else`** block will run (if it exists).\n",
        "\n",
        "\n",
        "\n",
        "### **Example with Multiple `elif` Statements:**\n",
        "```python\n",
        "age = 20\n",
        "if age < 13:\n",
        "    print(\"Child\")\n",
        "elif age >= 13 and age < 18:\n",
        "    print(\"Teenager\")\n",
        "elif age >= 18 and age < 60:\n",
        "    print(\"Adult\")  # This will execute\n",
        "else:\n",
        "    print(\"Senior\")\n",
        "```\n",
        "**explanation**\n",
        "- The if condition is False because age is not less than 13.\n",
        "The first elif is False because age is not in the range 13-17.\n",
        "The second elif is True because age is in the range 18-59, so \"Adult\" is printed.\n",
        "The else block is skipped since a matching condition was found.\n",
        "\n",
        "\n",
        "\n",
        "---\n",
        "---\n",
        "---"
      ]
    },
    {
      "cell_type": "code",
      "source": [
        "### Question 13 :  What is the difference between for and while loops?\n"
      ],
      "metadata": {
        "id": "o8Z7A7LODpPl"
      },
      "execution_count": null,
      "outputs": []
    },
    {
      "cell_type": "markdown",
      "metadata": {
        "id": "cDA6u45OLj7j"
      },
      "source": [
        "### **Question 13 :  What is the difference between for and while loops?**\n",
        "\n",
        "Both `for` and `while` loops are used to repeatedly execute a block of code, but they are used in different situations and have distinct behaviors.\n",
        "\n",
        "---\n",
        "\n",
        "### **1. `for` Loop:**\n",
        "The `for` loop is typically used when you know **how many times** you want to repeat a block of code. It is commonly used to iterate over a sequence (like a list, tuple, string, or range).\n",
        "\n",
        "#### **Syntax:**\n",
        "```python\n",
        "for item in sequence:\n",
        "    # Code to execute\n",
        "```\n",
        "\n",
        "\n",
        "#### **Example:**\n",
        "```python\n",
        "for i in range(5):  # Iterates over 0 to 4\n",
        "    print(i)\n",
        "```\n",
        "**Output:**\n",
        "```\n",
        "0\n",
        "1\n",
        "2\n",
        "3\n",
        "4\n",
        "```\n",
        "\n",
        "---\n",
        "\n",
        "### **2. `while` Loop:**\n",
        "The `while` loop is used when you want to repeat a block of code **as long as a condition remains True**. You generally don't know the exact number of iterations ahead of time.\n",
        "\n",
        "#### **Syntax:**\n",
        "```python\n",
        "while condition:\n",
        "    # Code to execute\n",
        "```\n",
        "\n",
        "\n",
        "\n",
        "#### **Example:**\n",
        "```python\n",
        "i = 0\n",
        "while i < 5:\n",
        "    print(i)\n",
        "    i += 1  # Increment i to eventually break the loop\n",
        "```\n",
        "**Output:**\n",
        "```\n",
        "0\n",
        "1\n",
        "2\n",
        "3\n",
        "4\n",
        "```\n",
        "\n",
        "---\n",
        "\n",
        "### **Key Differences Between `for` and `while` Loops:**\n",
        "\n",
        "| Feature             | **`for` Loop**                                          | **`while` Loop**                                      |\n",
        "|---------------------|---------------------------------------------------------|------------------------------------------------------|\n",
        "| **Use case**         | When you know **how many times** to repeat.             | When you don't know exactly **how many times** to repeat. |\n",
        "| **Iteration control**| Loops over a sequence (list, string, range, etc.).      | Loops as long as a given **condition** is True.       |\n",
        "| **Termination**      | Ends when the sequence is exhausted.                    | Ends when the condition becomes False.                |\n",
        "| **Example**          | `for i in range(5):`                                    | `while i < 5:`                                        |\n",
        "| **Control**          | Iterates over a fixed set of items.                     | Continues based on a condition that can change dynamically. |\n",
        "| **Best for**         | Known sequences or fixed iterations.                    | Conditions that change dynamically.                   |\n",
        "\n",
        "---\n",
        "\n",
        "### **When to Use Each:**\n",
        "\n",
        "- **Use a `for` loop** when:\n",
        "  - You know the exact number of iterations in advance.\n",
        "  - You are working with a sequence (like a list or range) and want to iterate over it.\n",
        "\n",
        "- **Use a `while` loop** when:\n",
        "  - You want the loop to run until a specific condition is met, and the number of iterations is not known in advance.\n",
        "  - The condition may change during execution, and you need the loop to keep going until the condition is False.\n",
        "\n",
        "---\n",
        "\n",
        "### **Example Comparison:**\n",
        "\n",
        "#### **Using `for` Loop:**\n",
        "```python\n",
        "# Print numbers from 1 to 5\n",
        "for i in range(1, 6):\n",
        "    print(i)\n",
        "```\n",
        "\n",
        "#### **Using `while` Loop:**\n",
        "```python\n",
        "# Print numbers from 1 to 5\n",
        "i = 1\n",
        "while i <= 5:\n",
        "    print(i)\n",
        "    i += 1  # Increment to avoid infinite loop\n",
        "```\n",
        "\n",
        "---\n",
        "\n",
        "### **Conclusion:**\n",
        "\n",
        "- **`for`** is best suited for iterating over sequences when you know the number of iterations.\n",
        "- **`while`** is best for situations where you need the loop to run as long as a certain condition is True.\n",
        "---\n",
        "---\n",
        "\n",
        "---"
      ]
    },
    {
      "cell_type": "code",
      "source": [
        "### Question 14 : Describe a scenario where a while loop is more suitable than a for loop?"
      ],
      "metadata": {
        "id": "SywLmyIyDtYQ"
      },
      "execution_count": null,
      "outputs": []
    },
    {
      "cell_type": "markdown",
      "metadata": {
        "id": "EVk4L2taL6NB"
      },
      "source": [
        "### **Question 14 : Describe a scenario where a while loop is more suitable than a for loop?**\n",
        "\n",
        "#### **Scenario: Waiting for a Specific User Input**\n",
        "\n",
        "Imagine a scenario where you need a program to repeatedly ask a user for their input until they provide a valid response. In this case, you don't know how many attempts the user will need to provide the correct input, so a **`while`** loop is more suitable.\n",
        "\n",
        "---\n",
        "\n",
        "### **Problem:**\n",
        "You want to ask the user to enter a positive number. If the user enters a non-positive number (like 0 or a negative number), the program should keep asking them until they provide a valid positive number.\n",
        "\n",
        "---\n",
        "\n",
        "### **Why `while` Loop is More Suitable:**\n",
        "\n",
        "In this case, the **condition** for the loop is based on the validity of the user's input, and you can't determine in advance how many times the user might need to try. Since the number of attempts is dynamic and depends on user input, a **`while`** loop is the perfect choice because it will continue running until the condition (positive number) is met.\n",
        "\n",
        "---\n",
        "\n",
        "### **Code Example:**\n",
        "\n",
        "```python\n",
        "# Initialize the user input to a non-positive number to start the loop\n",
        "number = int(input(\"Enter a positive number: \"))\n",
        "\n",
        "# Keep asking until the input is positive\n",
        "while number <= 0:\n",
        "    print(\"That's not a positive number. Please try again.\")\n",
        "    number = int(input(\"Enter a positive number: \"))\n",
        "\n",
        "print(f\"Thank you! You entered a valid positive number: {number}\")\n",
        "```\n",
        "\n",
        "### **Explanation:**\n",
        "\n",
        "- The loop continues as long as the **`number`** is **less than or equal to 0** (condition is True).\n",
        "- Once the user enters a positive number, the loop stops because the condition becomes **False**.\n",
        "- The number of attempts is unknown, so a `while` loop is needed.\n",
        "\n",
        "---\n",
        "\n",
        "### **Why Not `for` Loop?**\n",
        "\n",
        "A `for` loop would not work well in this case because:\n",
        "- **You don't know the exact number of iterations** beforehand.\n",
        "- A `for` loop is typically used to iterate over a sequence (like a list, range, or string), and it requires a predefined number of iterations.\n",
        "\n",
        "In contrast, a `while` loop is ideal for situations where the number of iterations is **determined by a dynamic condition** (like user input).\n",
        "\n",
        "---\n",
        "---\n",
        "---"
      ]
    },
    {
      "cell_type": "markdown",
      "source": [
        "\n",
        ">  ## ***practical Questions*** ##\n",
        "\n",
        "\n",
        "\n",
        "\n"
      ],
      "metadata": {
        "id": "UKXHGKk8D0Fj"
      }
    },
    {
      "cell_type": "code",
      "source": [],
      "metadata": {
        "id": "eObcUTv8DzhT"
      },
      "execution_count": null,
      "outputs": []
    },
    {
      "cell_type": "markdown",
      "source": [
        "### **question 1 : Write a Python program to print \"Hello, World!\"** ###"
      ],
      "metadata": {
        "id": "l-fED5DKP0_n"
      }
    },
    {
      "cell_type": "code",
      "source": [
        "print(\"hello world\")"
      ],
      "metadata": {
        "colab": {
          "base_uri": "https://localhost:8080/"
        },
        "id": "fb5xi5UxPXIh",
        "outputId": "3fe659c1-06da-4ef7-dd8d-a1765e66ec86"
      },
      "execution_count": 24,
      "outputs": [
        {
          "output_type": "stream",
          "name": "stdout",
          "text": [
            "hello world\n"
          ]
        }
      ]
    },
    {
      "cell_type": "markdown",
      "source": [
        "### **question 2 : Write a Python program that displays your name and age** ###"
      ],
      "metadata": {
        "id": "rRGaCzIfQB7o"
      }
    },
    {
      "cell_type": "code",
      "source": [
        "print(f\"hello Assignment checker \")\n",
        "\n",
        "My_Name=\"Shasang\"\n",
        "My_Age=20\n",
        "\n",
        "print(f\"My name is {My_Name}\")\n",
        "print(f\"And my age is {My_Age}\")\n",
        "print(f\"by the way what is your name and age\")\n",
        "\n",
        "\n",
        "\n",
        "_name=input(\"give me your name : \")\n",
        "_age=int(input(\"give me  your age : \"))\n",
        "print(f\"so your name is  {_name} and your age is  {_age} \")\n"
      ],
      "metadata": {
        "colab": {
          "base_uri": "https://localhost:8080/"
        },
        "id": "rcqpX6uJQOlR",
        "outputId": "5a4204db-7109-4a42-f774-b37cdeb973c2"
      },
      "execution_count": 25,
      "outputs": [
        {
          "output_type": "stream",
          "name": "stdout",
          "text": [
            "hello Assignment checker \n",
            "My name is Shasang\n",
            "And my age is 20\n",
            "by the way what is your name and age\n",
            "give me your name : shasang\n",
            "give me  your age : 20\n",
            "so your name is  shasang and your age is  20 \n"
          ]
        }
      ]
    },
    {
      "cell_type": "markdown",
      "source": [
        "### **question 3 : Write code to print all the pre-defined keywords in Python using the keyword library** ###"
      ],
      "metadata": {
        "id": "3N5eGEjKS6SR"
      }
    },
    {
      "cell_type": "code",
      "source": [
        "import keyword\n",
        "print(keyword.kwlist)"
      ],
      "metadata": {
        "colab": {
          "base_uri": "https://localhost:8080/"
        },
        "id": "SrKvNvfuTMZM",
        "outputId": "b9317425-9b30-43d0-d250-d3f7880088de"
      },
      "execution_count": 26,
      "outputs": [
        {
          "output_type": "stream",
          "name": "stdout",
          "text": [
            "['False', 'None', 'True', 'and', 'as', 'assert', 'async', 'await', 'break', 'class', 'continue', 'def', 'del', 'elif', 'else', 'except', 'finally', 'for', 'from', 'global', 'if', 'import', 'in', 'is', 'lambda', 'nonlocal', 'not', 'or', 'pass', 'raise', 'return', 'try', 'while', 'with', 'yield']\n"
          ]
        }
      ]
    },
    {
      "cell_type": "markdown",
      "source": [
        "### **Question 4 :  Write a program that checks if a given word is a Python keyword.** ###"
      ],
      "metadata": {
        "id": "wQjPxVxvlu-9"
      }
    },
    {
      "cell_type": "code",
      "source": [
        "import keyword\n",
        "keyword_list=keyword.kwlist\n",
        "word=input(\"give me word that you want to check it is keyword or not : \")\n",
        "\n",
        "if word in keyword_list:\n",
        "  print(f\" {word} is keyword\")\n",
        "else:\n",
        "  print(f\" {word} is not keyword\")\n"
      ],
      "metadata": {
        "colab": {
          "base_uri": "https://localhost:8080/"
        },
        "id": "lTxe18Wol4g1",
        "outputId": "a2040749-2e7b-4457-fcaf-6153e40c5713"
      },
      "execution_count": 27,
      "outputs": [
        {
          "output_type": "stream",
          "name": "stdout",
          "text": [
            "give me word that you want to check it is keyword or not : if\n",
            " if is keyword\n"
          ]
        }
      ]
    },
    {
      "cell_type": "markdown",
      "source": [],
      "metadata": {
        "id": "l8f76ln5nlr8"
      }
    },
    {
      "cell_type": "markdown",
      "source": [
        "### **Question 5 :  Create a list and tuple in Python, and demonstrate how attempting to change an element works differently for each.** ###"
      ],
      "metadata": {
        "id": "R0VaCcAinoRb"
      }
    },
    {
      "cell_type": "code",
      "source": [
        "my_list = [1, 2, 3, 4]\n",
        "\n",
        "print(\"Original list:\", my_list)\n",
        "my_list[2] = 99\n",
        "print(\"List after modification:\", my_list)\n",
        "\n",
        "my_tuple = (1, 2, 3, 4)\n",
        "\n",
        "print(\"\\nOriginal tuple:\", my_tuple)\n",
        "\n",
        "try:\n",
        "    my_tuple[2] = 99  #\n",
        "except TypeError as e:\n",
        "    print(\"Error when trying to modify the tuple:\", e)\n"
      ],
      "metadata": {
        "colab": {
          "base_uri": "https://localhost:8080/"
        },
        "id": "WjDHIb6Smzh6",
        "outputId": "76112607-79c2-4680-8cbc-bdf0d60f345f"
      },
      "execution_count": 28,
      "outputs": [
        {
          "output_type": "stream",
          "name": "stdout",
          "text": [
            "Original list: [1, 2, 3, 4]\n",
            "List after modification: [1, 2, 99, 4]\n",
            "\n",
            "Original tuple: (1, 2, 3, 4)\n",
            "Error when trying to modify the tuple: 'tuple' object does not support item assignment\n"
          ]
        }
      ]
    },
    {
      "cell_type": "markdown",
      "source": [
        "###  **Question 6: Write a function to demonstrate the behavior of mutable and immutable arguments** ###\n"
      ],
      "metadata": {
        "id": "j8Y7uhCZoahM"
      }
    },
    {
      "cell_type": "code",
      "source": [
        "def modify_arguments(mutable_argument, immutable_argument):\n",
        "    \"\"\"Modifies mutable arguments in-place and attempts to modify immutable arguments.\"\"\"\n",
        "\n",
        "    # Handling mutable arguments\n",
        "    if isinstance(mutable_argument, list):\n",
        "        mutable_argument.append(100)  # Modifies the original list\n",
        "        print(f\"Modified list: {mutable_argument}\")\n",
        "\n",
        "    elif isinstance(mutable_argument, dict):\n",
        "        mutable_argument[\"new_key\"] = \"new_value\"  # Modifies the original dictionary\n",
        "        print(f\"Modified dictionary: {mutable_argument}\")\n",
        "\n",
        "    elif isinstance(mutable_argument, set):\n",
        "        mutable_argument.add(200)  # Modifies the original set\n",
        "        print(f\"Modified set: {mutable_argument}\")\n",
        "\n",
        "    # Handling immutable arguments\n",
        "    if isinstance(immutable_argument, int):\n",
        "        immutable_argument = 50  # New integer is created (original remains unchanged)\n",
        "        print(f\"Modified integer inside function: {immutable_argument}\")\n",
        "\n",
        "    elif isinstance(immutable_argument, str):\n",
        "        immutable_argument += \" World\"  # New string is created (original remains unchanged)\n",
        "        print(f\"Modified string inside function: {immutable_argument}\")\n",
        "\n",
        "    elif isinstance(immutable_argument, tuple):\n",
        "        immutable_argument += (500,)  # New tuple is created (original remains unchanged)\n",
        "        print(f\"Modified tuple inside function: {immutable_argument}\")\n",
        "\n",
        "\n",
        "# Creating test data (mutable and immutable types)\n",
        "mutable_list = [1, 2, 3]\n",
        "mutable_dict = {\"a\": 1, \"b\": 2}\n",
        "mutable_set = {10, 20, 30}\n",
        "\n",
        "immutable_int = 10\n",
        "immutable_string = \"Hello\"\n",
        "immutable_tuple = (1, 2, 3)\n",
        "\n",
        "# Displaying initial values\n",
        "print(\"Before calling the function:\")\n",
        "print(f\"List: {mutable_list}\")\n",
        "print(f\"Dictionary: {mutable_dict}\")\n",
        "print(f\"Set: {mutable_set}\")\n",
        "print(f\"Integer: {immutable_int}\")\n",
        "print(f\"String: {immutable_string}\")\n",
        "print(f\"Tuple: {immutable_tuple}\\n\")\n",
        "\n",
        "# Calling the function\n",
        "modify_arguments(mutable_list, immutable_int)\n",
        "modify_arguments(mutable_dict, immutable_string)\n",
        "modify_arguments(mutable_set, immutable_tuple)\n",
        "\n",
        "# Displaying values after function execution\n",
        "print(\"\\nAfter calling the function:\")\n",
        "print()\n",
        "print()\n",
        "print()\n",
        "print(\"............changed............\")\n",
        "print(f\"List: {mutable_list}\")       # Changed\n",
        "print(f\"Dictionary: {mutable_dict}\") # Changed\n",
        "print(f\"Set: {mutable_set}\")         # Changed\n",
        "print(\"............unchanged............\")\n",
        "\n",
        "print(f\"Integer: {immutable_int}\")   # Unchanged\n",
        "print(f\"String: {immutable_string}\") # Unchanged\n",
        "print(f\"Tuple: {immutable_tuple}\")   # Unchanged\n"
      ],
      "metadata": {
        "colab": {
          "base_uri": "https://localhost:8080/"
        },
        "id": "JykN0EUYomgt",
        "outputId": "fd87e6d7-fbf4-4c24-ebab-0e597657e70a"
      },
      "execution_count": 29,
      "outputs": [
        {
          "output_type": "stream",
          "name": "stdout",
          "text": [
            "Before calling the function:\n",
            "List: [1, 2, 3]\n",
            "Dictionary: {'a': 1, 'b': 2}\n",
            "Set: {10, 20, 30}\n",
            "Integer: 10\n",
            "String: Hello\n",
            "Tuple: (1, 2, 3)\n",
            "\n",
            "Modified list: [1, 2, 3, 100]\n",
            "Modified integer inside function: 50\n",
            "Modified dictionary: {'a': 1, 'b': 2, 'new_key': 'new_value'}\n",
            "Modified string inside function: Hello World\n",
            "Modified set: {200, 10, 20, 30}\n",
            "Modified tuple inside function: (1, 2, 3, 500)\n",
            "\n",
            "After calling the function:\n",
            "\n",
            "\n",
            "\n",
            "............changed............\n",
            "List: [1, 2, 3, 100]\n",
            "Dictionary: {'a': 1, 'b': 2, 'new_key': 'new_value'}\n",
            "Set: {200, 10, 20, 30}\n",
            "............unchanged............\n",
            "Integer: 10\n",
            "String: Hello\n",
            "Tuple: (1, 2, 3)\n"
          ]
        }
      ]
    },
    {
      "cell_type": "markdown",
      "source": [
        "### **Question 7. Write a program that performs basic arithmetic operations on two user-input numbers.** ###\n"
      ],
      "metadata": {
        "id": "MDJt4Cr_71o6"
      }
    },
    {
      "cell_type": "code",
      "source": [
        "num1 = None\n",
        "num2 = None\n",
        "\n",
        "while True:\n",
        "    print(\"\\nSelect an operation:\")\n",
        "    print(\"1. Addition (+)\")\n",
        "    print(\"2. Subtraction (-)\")\n",
        "    print(\"3. Multiplication (*)\")\n",
        "    print(\"4. Division (/)\")\n",
        "    print(\"5. Exit\")\n",
        "\n",
        "    operation_choice = input(\"Enter your choice (1/2/3/4/5): \")\n",
        "\n",
        "    if operation_choice == \"5\":\n",
        "        print(\"\\nExiting the calculator. Goodbye! 👋\")\n",
        "        break\n",
        "    elif operation_choice not in [\"1\", \"2\", \"3\", \"4\"]:\n",
        "        print(\"\\nInvalid choice. Please enter 1, 2, 3, 4, or 5.\")\n",
        "        continue\n",
        "\n",
        "    if num1 is None or num2 is None:\n",
        "        num1 = float(input(\"\\nEnter the first number: \"))\n",
        "        num2 = float(input(\"Enter the second number: \"))\n",
        "    else:\n",
        "        choice = input(\"\\nDo you want to use the same numbers? (yes/no): \").strip().lower()\n",
        "        if choice == \"no\":\n",
        "            num1 = float(input(\"\\nEnter the first number: \"))\n",
        "            num2 = float(input(\"Enter the second number: \"))\n",
        "\n",
        "    if operation_choice == \"1\":\n",
        "        result = num1 + num2\n",
        "        operation = \"+\"\n",
        "    elif operation_choice == \"2\":\n",
        "        result = num1 - num2\n",
        "        operation = \"-\"\n",
        "    elif operation_choice == \"3\":\n",
        "        result = num1 * num2\n",
        "        operation = \"*\"\n",
        "    elif operation_choice == \"4\":\n",
        "        if num2 != 0:\n",
        "            result = num1 / num2\n",
        "            operation = \"/\"\n",
        "        else:\n",
        "            result = \"Undefined (Cannot divide by zero)\"\n",
        "            operation = \"/\"\n",
        "\n",
        "    print(f\"\\nResult: {num1} {operation} {num2} = {result}\")\n"
      ],
      "metadata": {
        "colab": {
          "base_uri": "https://localhost:8080/"
        },
        "id": "6Ev_28Bg784F",
        "outputId": "d8180772-43ef-43ba-e805-42e93d15eedc"
      },
      "execution_count": 30,
      "outputs": [
        {
          "output_type": "stream",
          "name": "stdout",
          "text": [
            "\n",
            "Select an operation:\n",
            "1. Addition (+)\n",
            "2. Subtraction (-)\n",
            "3. Multiplication (*)\n",
            "4. Division (/)\n",
            "5. Exit\n",
            "Enter your choice (1/2/3/4/5): 5\n",
            "\n",
            "Exiting the calculator. Goodbye! 👋\n"
          ]
        }
      ]
    },
    {
      "cell_type": "markdown",
      "source": [
        "### **Question 8. Write a program to demonstrate the use of logical operators.** ###"
      ],
      "metadata": {
        "id": "fzDJGagH9xU8"
      }
    },
    {
      "cell_type": "code",
      "source": [
        "print(\"Logical Operators Demonstration\\n\")\n",
        "\n",
        "age = int(input(\"Enter your age: \"))\n",
        "has_permission = input(\"Do you have permission to access this area? (yes/no): \").strip().lower()\n",
        "\n",
        "is_eligible = (age >= 18 and has_permission == \"yes\")\n",
        "\n",
        "is_denied = (not (age >= 18) or has_permission != \"yes\")\n",
        "\n",
        "print(\"\\nEligibility Check Results:\")\n",
        "print(f\"Is the user eligible for access? {is_eligible}\")\n",
        "print(f\"Is the user denied access? {is_denied}\")\n"
      ],
      "metadata": {
        "colab": {
          "base_uri": "https://localhost:8080/"
        },
        "id": "O_49aKTW948x",
        "outputId": "929e8ccd-f536-4f94-e508-222d0843b19b"
      },
      "execution_count": 31,
      "outputs": [
        {
          "output_type": "stream",
          "name": "stdout",
          "text": [
            "Logical Operators Demonstration\n",
            "\n",
            "Enter your age: 20\n",
            "Do you have permission to access this area? (yes/no): yes\n",
            "\n",
            "Eligibility Check Results:\n",
            "Is the user eligible for access? True\n",
            "Is the user denied access? False\n"
          ]
        }
      ]
    },
    {
      "cell_type": "markdown",
      "source": [
        "### **Question 9 : Write a Python program to convert user input from string to integer, float, and boolean types.** ###"
      ],
      "metadata": {
        "id": "7SXcyIiu_DVy"
      }
    },
    {
      "cell_type": "code",
      "source": [
        "user_input = input(\"Enter something to convert: \").strip()\n",
        "\n",
        "if user_input.isdigit() or (user_input[0] == '-' and user_input[1:].isdigit()) or (user_input.replace('.', '', 1).isdigit() and user_input.count('.') < 2):\n",
        "    int_value = int(float(user_input))\n",
        "    print(f\"Converted to integer: {int_value}\")\n",
        "else:\n",
        "        if user_input[0] == '-' and user_input[1:].replace('.', '', 1).isdigit() and user_input.count('.') < 2:\n",
        "            int_value = int(float(user_input))\n",
        "            print(f\"Converted to integer: {int_value}\")\n",
        "        else:\n",
        "            print(\"Could not convert to integer.\")\n",
        "\n",
        "\n",
        "\n",
        "if user_input.replace('.', '', 1).isdigit() and user_input.count('.') < 2:\n",
        "    float_value = float(user_input)\n",
        "    print(f\"Converted to float: {float_value}\")\n",
        "else:\n",
        "    if user_input[0] == '-' and user_input[1:].replace('.', '', 1).isdigit() and user_input.count('.') < 2:\n",
        "        float_value = float(user_input)\n",
        "        print(f\"Converted to float: {float_value}\")\n",
        "    else:\n",
        "        print(\"Could not convert to float.\")\n",
        "\n",
        "bool_value = bool(user_input)\n",
        "print(f\"Converted to boolean: {bool_value}\")\n"
      ],
      "metadata": {
        "colab": {
          "base_uri": "https://localhost:8080/"
        },
        "id": "TShcnqQk_LR3",
        "outputId": "f5f16ee8-e888-4ddd-fad6-0175bb8fcce4"
      },
      "execution_count": 32,
      "outputs": [
        {
          "output_type": "stream",
          "name": "stdout",
          "text": [
            "Enter something: shasang\n",
            "Could not convert to integer.\n",
            "Could not convert to float.\n",
            "Converted to boolean: True\n"
          ]
        }
      ]
    },
    {
      "cell_type": "markdown",
      "source": [
        "### **QUeston : 10. Write code to demonstrate type casting with list elements.** ###\n"
      ],
      "metadata": {
        "id": "J1fcxwCfKp39"
      }
    },
    {
      "cell_type": "code",
      "source": [
        "def string_int(user_input):\n",
        "    if((isinstance(user_input, str))):\n",
        "        if user_input.isdigit() or (user_input[0] == '-' and user_input[1:].isdigit()) or (user_input.replace('.', '', 1).isdigit() and user_input.count('.') < 2):\n",
        "            int_value = int(float(user_input))\n",
        "            return int_value\n",
        "        else:\n",
        "            if user_input[0] == '-' and user_input[1:].replace('.', '', 1).isdigit() and user_input.count('.') < 2:\n",
        "                int_value = int(float(user_input))\n",
        "                return int_value\n",
        "            else:\n",
        "                return None\n",
        "    else:\n",
        "        if isinstance(user_input, int):\n",
        "            return int(user_input)\n",
        "        elif isinstance(user_input,bool):\n",
        "            return int(user_input)\n",
        "        elif isinstance(user_input,float):\n",
        "            return int(user_input)\n",
        "\n",
        "\n",
        "\n",
        "\n",
        "\n",
        "def string_float(user_input):\n",
        "        if((isinstance(user_input, str))):\n",
        "            if user_input.replace('.', '', 1).isdigit() and user_input.count('.') < 2:\n",
        "                float_value = float(user_input)\n",
        "                return float_value\n",
        "            else:\n",
        "                if user_input[0] == '-' and user_input[1:].replace('.', '', 1).isdigit() and user_input.count('.') < 2:\n",
        "                    float_value = float(user_input)\n",
        "                    return float_value\n",
        "                else:\n",
        "                    return None\n",
        "        else:\n",
        "            if(isinstance(user_input, int)):\n",
        "                return float(user_input)\n",
        "            elif isinstance(user_input,bool):\n",
        "                return float(user_input)\n",
        "            elif isinstance(user_input,float):\n",
        "                return (user_input)\n",
        "\n",
        "\n",
        "\n",
        "\n",
        "\n",
        "data_list = [\"10\", \"20.5\", \"30\", \"40.9\", \"True\", \"False\", \"50\",0,True,1.1]\n",
        "\n",
        "data_tuple = tuple(data_list)\n",
        "\n",
        "data_set = set(data_list)\n",
        "\n",
        "data_dict = {i: data_list[i] for i in range(len(data_list))}\n",
        "\n",
        "int_list=list(map(string_int,data_list))\n",
        "float_list=list(map(string_float,data_list))\n",
        "bool_list = [bool(x) for x in data_list]\n",
        "str_list = [str(x) for x in data_list]\n",
        "\n",
        "\n",
        "print(\"Original List:\", data_list)\n",
        "print(\"\\nList to Tuple:\", data_tuple)\n",
        "print(\"List to Set:\", data_set)\n",
        "print(\"List to Dictionary:\", data_dict)\n",
        "print(\"\\nConverted to Integers - List:\", int_list)\n",
        "print(\"\\nConverted to Floats - List:\", float_list)\n",
        "print(\"\\nConverted to Booleans - List:\", bool_list)\n",
        "print(\"\\nConverted to Strings - List:\", str_list)\n",
        "\n"
      ],
      "metadata": {
        "colab": {
          "base_uri": "https://localhost:8080/"
        },
        "id": "LYVImSlKoWQl",
        "outputId": "9218ae72-cf53-4325-905e-25856e4d5d17"
      },
      "execution_count": 33,
      "outputs": [
        {
          "output_type": "stream",
          "name": "stdout",
          "text": [
            "Original List: ['10', '20.5', '30', '40.9', 'True', 'False', '50', 0, True, 1.1]\n",
            "\n",
            "List to Tuple: ('10', '20.5', '30', '40.9', 'True', 'False', '50', 0, True, 1.1)\n",
            "List to Set: {0, True, 1.1, '40.9', 'False', '30', '10', 'True', '50', '20.5'}\n",
            "List to Dictionary: {0: '10', 1: '20.5', 2: '30', 3: '40.9', 4: 'True', 5: 'False', 6: '50', 7: 0, 8: True, 9: 1.1}\n",
            "\n",
            "Converted to Integers - List: [10, 20, 30, 40, None, None, 50, 0, 1, 1]\n",
            "\n",
            "Converted to Floats - List: [10.0, 20.5, 30.0, 40.9, None, None, 50.0, 0.0, 1.0, 1.1]\n",
            "\n",
            "Converted to Booleans - List: [True, True, True, True, True, True, True, False, True, True]\n",
            "\n",
            "Converted to Strings - List: ['10', '20.5', '30', '40.9', 'True', 'False', '50', '0', 'True', '1.1']\n"
          ]
        }
      ]
    },
    {
      "cell_type": "markdown",
      "source": [
        "### **Question 11 Write a program that checks if a number is positive, negative, or zero.**###"
      ],
      "metadata": {
        "id": "yp7-F0nn7RO7"
      }
    },
    {
      "cell_type": "code",
      "source": [
        "\n",
        "def check_number_sign_bitwise(num):\n",
        "\n",
        "    if num == 0:\n",
        "        return \"Zero\"\n",
        "    elif (num >> 31) == 0:\n",
        "        return \"Positive\"\n",
        "    else:\n",
        "        return \"Negative\"\n",
        "\n",
        "number = int(float(input(\"Enter a number: \")))\n",
        "\n",
        "result = check_number_sign_bitwise(number)\n",
        "print(f\"The number is {result}.\")\n"
      ],
      "metadata": {
        "colab": {
          "base_uri": "https://localhost:8080/"
        },
        "id": "vh0aNCAy7hc8",
        "outputId": "7a39d283-2047-466f-c8f3-41add09d7b12"
      },
      "execution_count": 34,
      "outputs": [
        {
          "output_type": "stream",
          "name": "stdout",
          "text": [
            "Enter a number: -10\n",
            "The number is Negative.\n"
          ]
        }
      ]
    },
    {
      "cell_type": "markdown",
      "source": [
        "### **Question 12 : Write a for loop to print numbers from 1 to 10.** ###"
      ],
      "metadata": {
        "id": "0i8uZ40yMZuV"
      }
    },
    {
      "cell_type": "code",
      "source": [
        "for i in range (1,11):\n",
        "  print(i)"
      ],
      "metadata": {
        "colab": {
          "base_uri": "https://localhost:8080/"
        },
        "id": "PeIxmKd9Mj6m",
        "outputId": "b06abd9c-193c-488b-9cce-b84eee4aaa0f"
      },
      "execution_count": 35,
      "outputs": [
        {
          "output_type": "stream",
          "name": "stdout",
          "text": [
            "1\n",
            "2\n",
            "3\n",
            "4\n",
            "5\n",
            "6\n",
            "7\n",
            "8\n",
            "9\n",
            "10\n"
          ]
        }
      ]
    },
    {
      "cell_type": "markdown",
      "source": [
        "### **Question 13 : Write a Python program to find the sum of all even numbers between 1 and 50** ###"
      ],
      "metadata": {
        "id": "6rD6f1itMsX2"
      }
    },
    {
      "cell_type": "code",
      "source": [
        "\n",
        "sum = 0\n",
        "\n",
        "for i in range(2, 51, 2):\n",
        "    sum+= i\n",
        "\n",
        "print(sum)\n",
        "\n",
        "#there are 25 even nuber between 1 to 50\n",
        "#more optimized\n",
        "\n",
        "print((25*25) + 25)#formula=n^2 + n\n"
      ],
      "metadata": {
        "colab": {
          "base_uri": "https://localhost:8080/"
        },
        "id": "_REduyn26Dtb",
        "outputId": "dc9f4884-d845-4301-b85f-b719509ac7e6"
      },
      "execution_count": 36,
      "outputs": [
        {
          "output_type": "stream",
          "name": "stdout",
          "text": [
            "650\n",
            "650\n"
          ]
        }
      ]
    },
    {
      "cell_type": "markdown",
      "source": [
        "### **Question : 14 Write a program to reverse a string using a while loop.** ###"
      ],
      "metadata": {
        "id": "2R28Mb_Y7etq"
      }
    },
    {
      "cell_type": "code",
      "source": [
        "given_string=input(\"give me string for reverse : \")\n",
        "length=len(given_string)\n",
        "reversed_string=\"\"\n",
        "\n",
        "while(length>0):\n",
        "  reversed_string+=given_string[length-1]\n",
        "  length=length-1\n",
        "\n",
        "\n",
        "print(reversed_string)\n"
      ],
      "metadata": {
        "colab": {
          "base_uri": "https://localhost:8080/"
        },
        "id": "gEgM58F08SLx",
        "outputId": "f5bea2c9-92fb-4c25-cfa2-53553e0350d3"
      },
      "execution_count": 37,
      "outputs": [
        {
          "output_type": "stream",
          "name": "stdout",
          "text": [
            "give me string for reverse : shasang\n",
            "gnasahs\n"
          ]
        }
      ]
    },
    {
      "cell_type": "markdown",
      "source": [
        "### **Question 15 : Write a Python program to calculate the factorial of a number provided by the user using a while loop.** ###"
      ],
      "metadata": {
        "id": "S94vvn4a_G7w"
      }
    },
    {
      "cell_type": "code",
      "source": [
        "number=int(input(\"give me number for finding factorial : \"))\n",
        "num=number\n",
        "fac=1\n",
        "\n",
        "while(num>0):\n",
        "  fac=fac*num\n",
        "  num=num-1\n",
        "\n",
        "print(f\"factorial of {number} is {fac}\")\n",
        "\n",
        "\n",
        "\n"
      ],
      "metadata": {
        "colab": {
          "base_uri": "https://localhost:8080/"
        },
        "id": "9T7CqlFT_Oep",
        "outputId": "9e3f830b-ca9d-4945-a428-55220e47642b"
      },
      "execution_count": 38,
      "outputs": [
        {
          "output_type": "stream",
          "name": "stdout",
          "text": [
            "give me number for finding factorial : 2\n",
            "factorial of 2 is 2\n"
          ]
        }
      ]
    }
  ],
  "metadata": {
    "colab": {
      "provenance": []
    },
    "kernelspec": {
      "display_name": "Python 3",
      "name": "python3"
    },
    "language_info": {
      "name": "python"
    }
  },
  "nbformat": 4,
  "nbformat_minor": 0
}